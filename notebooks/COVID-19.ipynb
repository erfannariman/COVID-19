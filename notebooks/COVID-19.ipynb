{
 "cells": [
  {
   "cell_type": "code",
   "execution_count": 2,
   "metadata": {},
   "outputs": [],
   "source": [
    "import pandas as pd\n",
    "import os\n",
    "import numpy as np\n",
    "import statsmodels.api as sm\n",
    "import matplotlib.pyplot as plt\n",
    "import seaborn as sns\n",
    "\n",
    "plt.style.use('seaborn')\n",
    "pd.set_option('display.max_columns', None)"
   ]
  },
  {
   "cell_type": "markdown",
   "metadata": {},
   "source": [
    "---"
   ]
  },
  {
   "cell_type": "markdown",
   "metadata": {},
   "source": [
    "### data import"
   ]
  },
  {
   "cell_type": "code",
   "execution_count": 3,
   "metadata": {},
   "outputs": [
    {
     "data": {
      "text/plain": [
       "(4652, 6)"
      ]
     },
     "execution_count": 3,
     "metadata": {},
     "output_type": "execute_result"
    }
   ],
   "source": [
    "df = pd.read_excel(os.path.join('data', 'COVID-19-geographic-disbtribution-worldwide-2020-03-10.xls'))\n",
    "\n",
    "df.shape"
   ]
  },
  {
   "cell_type": "markdown",
   "metadata": {},
   "source": [
    "### data cleaning"
   ]
  },
  {
   "cell_type": "code",
   "execution_count": null,
   "metadata": {},
   "outputs": [],
   "source": [
    "# we filter out China to get rid of the extreme values\n",
    "df = df[df['CountryExp'].ne('China')]\n",
    "\n",
    "# clean up column names\n",
    "df.columns = df.columns.str.replace('DateRep', 'Date').str.replace('CountryExp', 'Country')\n",
    "\n",
    "# convert Date column to datetime type\n",
    "df['Date'] = pd.to_datetime(df['Date'], infer_datetime_format=True)\n",
    "df['Country'] = df['Country'].str.replace('Cases on an international conveyance Japan', 'Japan')\n",
    "df.head()"
   ]
  },
  {
   "cell_type": "markdown",
   "metadata": {},
   "source": [
    "### visualizations"
   ]
  },
  {
   "cell_type": "code",
   "execution_count": null,
   "metadata": {
    "scrolled": false
   },
   "outputs": [],
   "source": [
    "cases_sum = df.groupby('Date')['NewConfCases'].sum()\n",
    "cases_sum.plot(figsize=(15,9))\n",
    "plt.title('Amount of confirmed cases over time', size=13)\n",
    "plt.savefig('plots/plt1.png', dpi=100)\n",
    "plt.show()"
   ]
  },
  {
   "cell_type": "code",
   "execution_count": null,
   "metadata": {
    "scrolled": false
   },
   "outputs": [],
   "source": [
    "cases_cumsum = cases_sum.cumsum()\n",
    "cases_cumsum.plot(figsize=(15,9))\n",
    "plt.title('Cumulative sum of confirmed cases over time', size=13)\n",
    "plt.savefig('plots/plt2.png')\n",
    "plt.show()"
   ]
  },
  {
   "cell_type": "code",
   "execution_count": null,
   "metadata": {},
   "outputs": [],
   "source": [
    "log_cumsum = np.log(cases_cumsum[cases_cumsum.gt(1)]).to_frame().reset_index()\n",
    "log_cumsum['Date'] = log_cumsum['Date'].dt.dayofyear\n",
    "\n",
    "plt.figure(figsize=(15,9))\n",
    "plt.title(\"Regression line in logarithmic scale\")\n",
    "sns.regplot(x='Date', y='NewConfCases', data=log_cumsum)\n",
    "plt.xlabel('Day of year')\n",
    "plt.ylabel('New confirmed cases on logarithmic scale')\n",
    "plt.show()"
   ]
  },
  {
   "cell_type": "code",
   "execution_count": null,
   "metadata": {},
   "outputs": [],
   "source": [
    "X = log_cumsum['NewConfCases']\n",
    "y = log_cumsum['Date']\n",
    "\n",
    "model = sm.OLS(y, X).fit()\n",
    "predictions = model.predict(X) # make the predictions by the model\n",
    "\n",
    "# Print out the statistics\n",
    "model.summary()"
   ]
  },
  {
   "cell_type": "code",
   "execution_count": null,
   "metadata": {},
   "outputs": [],
   "source": [
    "cases_cumsum.plot(figsize=(15,9), logy=True)\n",
    "plt.title('Cumulative sum of confirmed cases over time', size=13)\n",
    "plt.savefig('plots/plt3.png')\n",
    "plt.show()"
   ]
  },
  {
   "cell_type": "code",
   "execution_count": null,
   "metadata": {},
   "outputs": [],
   "source": [
    "cases_cumsum = cases_cumsum.replace(0, 1)\n",
    "cases_cumsum.diff().div(cases_cumsum).add(1).fillna(1).plot(figsize=(15,9))\n",
    "plt.title('Growth proportion considering previous day', size=13)\n",
    "plt.ylabel('Growth proportion')\n",
    "plt.savefig('plots/plt4.png')\n",
    "plt.show()"
   ]
  },
  {
   "cell_type": "code",
   "execution_count": null,
   "metadata": {},
   "outputs": [],
   "source": [
    "df.groupby('Country')['NewConfCases'].max().sort_values(ascending=False).head(15)"
   ]
  },
  {
   "cell_type": "code",
   "execution_count": null,
   "metadata": {},
   "outputs": [],
   "source": [
    "df.groupby('Country')['NewConfCases'].sum().sort_values(ascending=False).head(15)"
   ]
  },
  {
   "cell_type": "markdown",
   "metadata": {},
   "source": [
    "---"
   ]
  }
 ],
 "metadata": {
  "kernelspec": {
   "display_name": "Python 3",
   "language": "python",
   "name": "python3"
  },
  "language_info": {
   "codemirror_mode": {
    "name": "ipython",
    "version": 3
   },
   "file_extension": ".py",
   "mimetype": "text/x-python",
   "name": "python",
   "nbconvert_exporter": "python",
   "pygments_lexer": "ipython3",
   "version": "3.7.6"
  }
 },
 "nbformat": 4,
 "nbformat_minor": 2
}
